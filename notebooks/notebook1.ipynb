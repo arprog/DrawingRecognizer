{
 "cells": [
  {
   "cell_type": "code",
   "execution_count": null,
   "metadata": {},
   "outputs": [],
   "source": [
    "import cv2 as cv\n",
    "import numpy as np\n",
    "import pandas as pd\n",
    "import matplotlib.pyplot as plt\n",
    "\n",
    "from time import time\n",
    "from tensorflow import keras\n",
    "from keras import backend as K\n",
    "from keras.models import Sequential\n",
    "from keras.backend import clear_session\n",
    "from quickdraw import QuickDrawDataGroup\n",
    "from sklearn.model_selection import KFold\n",
    "from keras.metrics import Recall, Precision\n",
    "from tensorflow_addons.metrics import F1Score\n",
    "from keras.optimizers import Adam, Adagrad, Adamax, SGD, Nadam\n",
    "from skmultilearn.model_selection import iterative_train_test_split\n",
    "from keras.layers import (Conv2D, Dense, Dropout, Flatten, MaxPool2D, BatchNormalization)"
   ]
  },
  {
   "cell_type": "code",
   "execution_count": null,
   "metadata": {},
   "outputs": [],
   "source": [
    "tipos_desenhos = ['airplane', 'banana', 'bee', 'coffee cup', 'crab', 'guitar', 'hamburger', 'rabbit', 'truck', 'umbrella']\n",
    "\n",
    "quantidade_tipos_desenhos = len(tipos_desenhos)\n",
    "quantidade_desenhos = 500\n",
    "largura_desenho = 130\n",
    "altura_desenho = 130\n",
    "batch = 50"
   ]
  },
  {
   "cell_type": "code",
   "execution_count": null,
   "metadata": {},
   "outputs": [],
   "source": [
    "def criar_modelo_cnn():\n",
    "    model = Sequential()\n",
    "    model.add(BatchNormalization(input_shape =(largura_desenho,altura_desenho,1)))\n",
    "    model.add(Conv2D(16, (3,3), activation = 'relu'))\n",
    "    model.add(Conv2D(16, (3,3), activation = 'relu'))\n",
    "    model.add(MaxPool2D(2,2))\n",
    "    model.add(Conv2D(32, (3,3), activation = 'relu'))\n",
    "    model.add(Conv2D(32, (3,3), activation = 'relu'))\n",
    "    model.add(MaxPool2D(2,2))\n",
    "    model.add(Conv2D(64, (3,3), activation = 'relu'))\n",
    "    model.add(Flatten())\n",
    "    model.add(Dropout(0.2))\n",
    "    model.add(Dense(10, activation = 'softmax'))\n",
    "\n",
    "    model.compile(optimizer = 'sgd',\n",
    "                  loss = 'mean_squared_error',\n",
    "                  metrics = ['accuracy', Recall(), Precision(), F1Score(num_classes=10)])\n",
    "\n",
    "    return model"
   ]
  },
  {
   "cell_type": "code",
   "execution_count": null,
   "metadata": {},
   "outputs": [],
   "source": [
    "desenhos = list(map(lambda x: QuickDrawDataGroup(x, max_drawings=quantidade_desenhos), tipos_desenhos))"
   ]
  },
  {
   "cell_type": "code",
   "execution_count": null,
   "metadata": {},
   "outputs": [],
   "source": [
    "desenhos_cinzas = []\n",
    "tipos_desenhos_cinzas = []\n",
    "\n",
    "for i in range(quantidade_tipos_desenhos):\n",
    "    for j in range(quantidade_desenhos):\n",
    "        \n",
    "        desenhos_do_tipo_analisado = desenhos[i]\n",
    "        desenho = desenhos_do_tipo_analisado.get_drawing(index=j).image\n",
    "        desenho_convertido_para_cinza = desenho.convert('L')\n",
    "        \n",
    "        desenho_convertido_para_cinza = np.array(desenho_convertido_para_cinza)\n",
    "        desenho_convertido_para_cinza = cv.resize(desenho_convertido_para_cinza, (largura_desenho,altura_desenho))\n",
    "\n",
    "        tipo_desenho_cinza = np.zeros(quantidade_tipos_desenhos)\n",
    "        tipo_desenho_cinza[i] = 1\n",
    "\n",
    "        desenhos_cinzas.append(desenho_convertido_para_cinza)\n",
    "        tipos_desenhos_cinzas.append(tipo_desenho_cinza)"
   ]
  },
  {
   "cell_type": "code",
   "execution_count": null,
   "metadata": {},
   "outputs": [],
   "source": [
    "desenhos_cinzas = np.array(desenhos_cinzas).astype(np.float32)\n",
    "tipos_desenhos_cinzas = np.array(tipos_desenhos_cinzas).astype(np.float32)"
   ]
  },
  {
   "cell_type": "code",
   "execution_count": null,
   "metadata": {},
   "outputs": [],
   "source": [
    "x_train, y_train, x_test, y_test = iterative_train_test_split(desenhos_cinzas, tipos_desenhos_cinzas, test_size=0.3)"
   ]
  },
  {
   "cell_type": "code",
   "execution_count": null,
   "metadata": {},
   "outputs": [],
   "source": [
    "acuracias = []\n",
    "precisoes = []\n",
    "recalls = []\n",
    "total_tempos_treino = []\n",
    "total_tempos_classificacao = []\n",
    "perdas = []\n",
    "lista_f1 = []\n",
    "\n",
    "for i in range(30):\n",
    "    \n",
    "    model = criar_modelo_cnn()\n",
    "\n",
    "    folds = KFold(n_splits=10, shuffle=False)\n",
    "    \n",
    "    acuracias_fold = []\n",
    "    precisoes_fold = []\n",
    "    recalls_fold = []\n",
    "    tempos_treino_fold = []\n",
    "    perdas_fold = []\n",
    "    lista_f1_fold = []\n",
    "\n",
    "    print(\"*------Execução: \", (i + 1), \"------*\")\n",
    "\n",
    "    for train_index, _ in folds.split(x_train):\n",
    "\n",
    "        horario_inicio = time()\n",
    "\n",
    "        model.fit(x_train[train_index], y_train[train_index], epochs=10, batch_size=batch, validation_data=[x_test, y_test], shuffle=False)\n",
    "\n",
    "        horario_termino = time()\n",
    "\n",
    "        media_valor_acuracia = np.mean(model.history.history['val_accuracy'])\n",
    "        media_valor_perda = np.mean(model.history.history['val_loss'])\n",
    "        media_valor_recall = np.mean(model.history.history['val_recall'])\n",
    "        media_valor_precisao = np.mean(model.history.history['val_precision'])\n",
    "        media_valor_f1 = np.mean(model.history.history['val_f1_score'])\n",
    "\n",
    "        acuracias_fold.append(media_valor_acuracia)\n",
    "        perdas_fold.append(media_valor_perda)\n",
    "        precisoes_fold.append(media_valor_precisao)\n",
    "        recalls_fold.append(media_valor_recall)\n",
    "        tempos_treino_fold.append(horario_termino - horario_inicio)\n",
    "        lista_f1_fold.append(media_valor_f1)\n",
    "\n",
    "    acuracias.append(np.mean(acuracias_fold))\n",
    "    perdas.append(np.mean(perdas_fold))\n",
    "    precisoes.append(np.mean(precisoes_fold))\n",
    "    recalls.append(np.mean(recalls_fold))\n",
    "    total_tempos_treino.append(np.mean(tempos_treino_fold))\n",
    "    lista_f1.append(np.mean(lista_f1_fold))\n",
    "\n",
    "    tempos_classificacao = []\n",
    "    \n",
    "    for feature in x_test:\n",
    "\n",
    "        horario_inicio = time()\n",
    "\n",
    "        model.predict(feature.reshape(1, feature.shape[0], feature.shape[1], 1))\n",
    "\n",
    "        horario_termino = time()\n",
    "\n",
    "        tempos_classificacao.append((horario_termino - horario_inicio) * 1000)\n",
    "\n",
    "    total_tempos_classificacao.append(np.mean(tempos_classificacao))\n",
    "\n",
    "    clear_session()\n",
    "\n",
    "dataframe = pd.DataFrame(data={\"Accuracy\": acuracias,\n",
    "                            \"Precision\": precisoes,\n",
    "                            \"Recall\": recalls,\n",
    "                            \"Fit Time\": total_tempos_treino,\n",
    "                            \"Time Classification\": total_tempos_classificacao,\n",
    "                            \"F1score\": lista_f1,\n",
    "                            \"Loss\": perdas})\n",
    "\n",
    "dataframe.to_excel(\"rnn.xlsx\", index=False)\n",
    "\n",
    "model.save('cnn.h5')"
   ]
  }
 ],
 "metadata": {
  "interpreter": {
   "hash": "1890d478812d498480760c6d6325854c999212e75054f04c3fb825c7cb2ca4b9"
  },
  "kernelspec": {
   "display_name": "Python 3.9.1 64-bit",
   "language": "python",
   "name": "python3"
  },
  "language_info": {
   "codemirror_mode": {
    "name": "ipython",
    "version": 3
   },
   "file_extension": ".py",
   "mimetype": "text/x-python",
   "name": "python",
   "nbconvert_exporter": "python",
   "pygments_lexer": "ipython3",
   "version": "3.9.1"
  },
  "orig_nbformat": 4
 },
 "nbformat": 4,
 "nbformat_minor": 2
}
